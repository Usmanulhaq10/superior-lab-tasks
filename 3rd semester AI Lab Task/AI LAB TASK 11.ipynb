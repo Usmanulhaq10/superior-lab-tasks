{
 "cells": [
  {
   "cell_type": "code",
   "execution_count": 1,
   "id": "5e5f068c-9e41-4e11-954d-4f05b3255b80",
   "metadata": {},
   "outputs": [
    {
     "name": "stderr",
     "output_type": "stream",
     "text": [
      "C:\\Users\\Chusm\\AppData\\Local\\Temp\\ipykernel_7792\\2888926573.py:18: FutureWarning: Series.fillna with 'method' is deprecated and will raise in a future version. Use obj.ffill() or obj.bfill() instead.\n",
      "  data['date_added'] = data['date_added'].fillna(method='ffill')\n"
     ]
    },
    {
     "name": "stdout",
     "output_type": "stream",
     "text": [
      "Model Accuracy: 0.9988649262202043\n"
     ]
    }
   ],
   "source": [
    "import os\n",
    "import pandas as pd\n",
    "from sklearn.model_selection import train_test_split\n",
    "from sklearn.preprocessing import LabelEncoder\n",
    "from sklearn.ensemble import RandomForestClassifier\n",
    "from sklearn.metrics import accuracy_score\n",
    "\n",
    "path = r'C:\\Users\\Chusm\\OneDrive\\Desktop\\BSAIM-3A Usman 035\\Artificial Intelligence - Lab\\Task 9-14\\Task 9'\n",
    "data_file = os.path.join(path, 'netflix_titles.csv')\n",
    "\n",
    "data = pd.read_csv(data_file)\n",
    "\n",
    "data = data.drop_duplicates()\n",
    "\n",
    "data['country'] = data['country'].fillna('Unknown')\n",
    "data['director'] = data['director'].fillna('Unknown')\n",
    "data['cast'] = data['cast'].fillna('Unknown')\n",
    "data['date_added'] = data['date_added'].fillna(method='ffill')\n",
    "data['rating'] = data['rating'].fillna('Not Rated')\n",
    "data['duration'] = data['duration'].fillna('0 min')\n",
    "\n",
    "data['release_year'] = data['release_year'].astype(int)\n",
    "\n",
    "durations = data['duration'].str.extract('(\\d+)')\n",
    "durations = durations.fillna(0).astype(int)\n",
    "data['duration_num'] = durations\n",
    "\n",
    "encoder = LabelEncoder()\n",
    "data['rating_num'] = encoder.fit_transform(data['rating'])\n",
    "data['country_num'] = encoder.fit_transform(data['country'])\n",
    "data['type_num'] = encoder.fit_transform(data['type'])\n",
    "\n",
    "X = data[['release_year', 'duration_num', 'rating_num', 'country_num']]\n",
    "y = data['type_num']\n",
    "\n",
    "X_train, X_test, y_train, y_test = train_test_split(X, y, test_size=0.2, random_state=42)\n",
    "\n",
    "rf_model = RandomForestClassifier()\n",
    "rf_model.fit(X_train, y_train)\n",
    "\n",
    "y_pred = rf_model.predict(X_test)\n",
    "\n",
    "acc = accuracy_score(y_test, y_pred)\n",
    "print(\"Model Accuracy:\", acc)\n"
   ]
  },
  {
   "cell_type": "code",
   "execution_count": null,
   "id": "ccb6072a-57ff-4184-a4da-629f420c7d75",
   "metadata": {},
   "outputs": [],
   "source": []
  }
 ],
 "metadata": {
  "kernelspec": {
   "display_name": "Python 3 (ipykernel)",
   "language": "python",
   "name": "python3"
  },
  "language_info": {
   "codemirror_mode": {
    "name": "ipython",
    "version": 3
   },
   "file_extension": ".py",
   "mimetype": "text/x-python",
   "name": "python",
   "nbconvert_exporter": "python",
   "pygments_lexer": "ipython3",
   "version": "3.11.7"
  }
 },
 "nbformat": 4,
 "nbformat_minor": 5
}
