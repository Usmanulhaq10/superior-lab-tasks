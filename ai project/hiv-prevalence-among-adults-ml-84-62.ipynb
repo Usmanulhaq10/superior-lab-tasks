{
 "cells": [
  {
   "cell_type": "code",
   "execution_count": 1,
   "id": "b8b1da09",
   "metadata": {
    "_cell_guid": "b1076dfc-b9ad-4769-8c92-a6c4dae69d19",
    "_uuid": "8f2839f25d086af736a60e9eeb907d3b93b6e0e5",
    "execution": {
     "iopub.execute_input": "2025-04-11T18:10:28.409967Z",
     "iopub.status.busy": "2025-04-11T18:10:28.409531Z",
     "iopub.status.idle": "2025-04-11T18:10:32.199916Z",
     "shell.execute_reply": "2025-04-11T18:10:32.198718Z"
    },
    "papermill": {
     "duration": 3.799937,
     "end_time": "2025-04-11T18:10:32.201536",
     "exception": false,
     "start_time": "2025-04-11T18:10:28.401599",
     "status": "completed"
    },
    "tags": []
   },
   "outputs": [],
   "source": [
    "\n",
    "import numpy as np # linear algebra\n",
    "import pandas as pd \n",
    "import warnings\n",
    "\n",
    "warnings.filterwarnings('ignore')\n"
   ]
  },
  {
   "cell_type": "code",
   "execution_count": 2,
   "id": "09ff07e8",
   "metadata": {
    "execution": {
     "iopub.execute_input": "2025-04-11T18:10:32.244776Z",
     "iopub.status.busy": "2025-04-11T18:10:32.244284Z",
     "iopub.status.idle": "2025-04-11T18:10:32.265737Z",
     "shell.execute_reply": "2025-04-11T18:10:32.264817Z"
    },
    "papermill": {
     "duration": 0.029323,
     "end_time": "2025-04-11T18:10:32.267515",
     "exception": false,
     "start_time": "2025-04-11T18:10:32.238192",
     "status": "completed"
    },
    "tags": []
   },
   "outputs": [],
   "source": [
    "df = pd.read_csv('HIV_AIDS prevalence estimates table.csv', encoding='ISO-8859-1')  # aka latin1\n"
   ]
  },
  {
   "cell_type": "code",
   "execution_count": 3,
   "id": "9c9e35bf",
   "metadata": {
    "execution": {
     "iopub.execute_input": "2025-04-11T18:10:32.279547Z",
     "iopub.status.busy": "2025-04-11T18:10:32.279150Z",
     "iopub.status.idle": "2025-04-11T18:10:32.305162Z",
     "shell.execute_reply": "2025-04-11T18:10:32.304385Z"
    },
    "papermill": {
     "duration": 0.033871,
     "end_time": "2025-04-11T18:10:32.306799",
     "exception": false,
     "start_time": "2025-04-11T18:10:32.272928",
     "status": "completed"
    },
    "tags": []
   },
   "outputs": [
    {
     "data": {
      "text/html": [
       "<div>\n",
       "<style scoped>\n",
       "    .dataframe tbody tr th:only-of-type {\n",
       "        vertical-align: middle;\n",
       "    }\n",
       "\n",
       "    .dataframe tbody tr th {\n",
       "        vertical-align: top;\n",
       "    }\n",
       "\n",
       "    .dataframe thead th {\n",
       "        text-align: right;\n",
       "    }\n",
       "</style>\n",
       "<table border=\"1\" class=\"dataframe\">\n",
       "  <thead>\n",
       "    <tr style=\"text-align: right;\">\n",
       "      <th></th>\n",
       "      <th>Country/Region</th>\n",
       "      <th>Adult prevalence of HIV/AIDS</th>\n",
       "      <th>Number of people with HIV/AIDS</th>\n",
       "      <th>Annual deaths from HIV/AIDS</th>\n",
       "      <th>Year of estimate</th>\n",
       "    </tr>\n",
       "  </thead>\n",
       "  <tbody>\n",
       "    <tr>\n",
       "      <th>0</th>\n",
       "      <td>ÿEswatini</td>\n",
       "      <td>28.30%</td>\n",
       "      <td>240,000</td>\n",
       "      <td>3,000</td>\n",
       "      <td>2024</td>\n",
       "    </tr>\n",
       "    <tr>\n",
       "      <th>1</th>\n",
       "      <td>ÿLesotho</td>\n",
       "      <td>26.20%</td>\n",
       "      <td>445,000</td>\n",
       "      <td>7,000</td>\n",
       "      <td>2025</td>\n",
       "    </tr>\n",
       "    <tr>\n",
       "      <th>2</th>\n",
       "      <td>ÿBotswana</td>\n",
       "      <td>22.80%</td>\n",
       "      <td>399,100</td>\n",
       "      <td>5,275</td>\n",
       "      <td>2025</td>\n",
       "    </tr>\n",
       "    <tr>\n",
       "      <th>3</th>\n",
       "      <td>ÿZimbabwe</td>\n",
       "      <td>22.10%</td>\n",
       "      <td>1,660,000</td>\n",
       "      <td>25,600</td>\n",
       "      <td>2024</td>\n",
       "    </tr>\n",
       "    <tr>\n",
       "      <th>4</th>\n",
       "      <td>ÿSouth Africa</td>\n",
       "      <td>14.40%</td>\n",
       "      <td>9,400,000</td>\n",
       "      <td>80,000</td>\n",
       "      <td>2025</td>\n",
       "    </tr>\n",
       "    <tr>\n",
       "      <th>5</th>\n",
       "      <td>ÿMozambique</td>\n",
       "      <td>12.65%</td>\n",
       "      <td>2,485,000</td>\n",
       "      <td>59,100</td>\n",
       "      <td>2024</td>\n",
       "    </tr>\n",
       "    <tr>\n",
       "      <th>6</th>\n",
       "      <td>ÿMalawi</td>\n",
       "      <td>11.40%</td>\n",
       "      <td>1,642,570</td>\n",
       "      <td>15,270</td>\n",
       "      <td>2024</td>\n",
       "    </tr>\n",
       "    <tr>\n",
       "      <th>7</th>\n",
       "      <td>ÿEquatorial Guinea</td>\n",
       "      <td>7.66%</td>\n",
       "      <td>74,165</td>\n",
       "      <td>2,400</td>\n",
       "      <td>2024</td>\n",
       "    </tr>\n",
       "    <tr>\n",
       "      <th>8</th>\n",
       "      <td>ÿTanzania</td>\n",
       "      <td>7%</td>\n",
       "      <td>3,300,000</td>\n",
       "      <td>39,000</td>\n",
       "      <td>2025</td>\n",
       "    </tr>\n",
       "    <tr>\n",
       "      <th>9</th>\n",
       "      <td>ÿKenya</td>\n",
       "      <td>5.10%</td>\n",
       "      <td>1,710,000</td>\n",
       "      <td>24,000</td>\n",
       "      <td>2023</td>\n",
       "    </tr>\n",
       "    <tr>\n",
       "      <th>10</th>\n",
       "      <td>ÿUganda</td>\n",
       "      <td>5%</td>\n",
       "      <td>1,590,000</td>\n",
       "      <td>23,300</td>\n",
       "      <td>2023</td>\n",
       "    </tr>\n",
       "    <tr>\n",
       "      <th>11</th>\n",
       "      <td>ÿTogo</td>\n",
       "      <td>5.20%</td>\n",
       "      <td>220,440</td>\n",
       "      <td>6,600</td>\n",
       "      <td>2024</td>\n",
       "    </tr>\n",
       "    <tr>\n",
       "      <th>12</th>\n",
       "      <td>ÿCameroon</td>\n",
       "      <td>4%</td>\n",
       "      <td>530,000</td>\n",
       "      <td>14,600</td>\n",
       "      <td>2023</td>\n",
       "    </tr>\n",
       "    <tr>\n",
       "      <th>13</th>\n",
       "      <td>ÿGabon</td>\n",
       "      <td>4.50%</td>\n",
       "      <td>68,000</td>\n",
       "      <td>4,800</td>\n",
       "      <td>2025</td>\n",
       "    </tr>\n",
       "    <tr>\n",
       "      <th>14</th>\n",
       "      <td>ÿCentral African Republic</td>\n",
       "      <td>4%</td>\n",
       "      <td>126,200</td>\n",
       "      <td>4,400</td>\n",
       "      <td>2024</td>\n",
       "    </tr>\n",
       "    <tr>\n",
       "      <th>15</th>\n",
       "      <td>ÿGuinea-Bissau</td>\n",
       "      <td>3.65%</td>\n",
       "      <td>42,000</td>\n",
       "      <td>2,200</td>\n",
       "      <td>2023</td>\n",
       "    </tr>\n",
       "    <tr>\n",
       "      <th>16</th>\n",
       "      <td>ÿCongo, Republic of the</td>\n",
       "      <td>3.77%</td>\n",
       "      <td>110,840</td>\n",
       "      <td>6,700</td>\n",
       "      <td>2024</td>\n",
       "    </tr>\n",
       "    <tr>\n",
       "      <th>17</th>\n",
       "      <td>ÿBarbados</td>\n",
       "      <td>0.90%</td>\n",
       "      <td>2,100</td>\n",
       "      <td>-</td>\n",
       "      <td>2023</td>\n",
       "    </tr>\n",
       "    <tr>\n",
       "      <th>18</th>\n",
       "      <td>ÿRwanda</td>\n",
       "      <td>2.90%</td>\n",
       "      <td>230,000</td>\n",
       "      <td>2,800</td>\n",
       "      <td>2016</td>\n",
       "    </tr>\n",
       "    <tr>\n",
       "      <th>19</th>\n",
       "      <td>ÿCte d'Ivoire</td>\n",
       "      <td>2.70%</td>\n",
       "      <td>430,000</td>\n",
       "      <td>13,000</td>\n",
       "      <td>2016</td>\n",
       "    </tr>\n",
       "  </tbody>\n",
       "</table>\n",
       "</div>"
      ],
      "text/plain": [
       "               Country/Region Adult prevalence of HIV/AIDS  \\\n",
       "0                   ÿEswatini                       28.30%   \n",
       "1                    ÿLesotho                       26.20%   \n",
       "2                   ÿBotswana                       22.80%   \n",
       "3                   ÿZimbabwe                       22.10%   \n",
       "4               ÿSouth Africa                       14.40%   \n",
       "5                 ÿMozambique                       12.65%   \n",
       "6                     ÿMalawi                       11.40%   \n",
       "7          ÿEquatorial Guinea                        7.66%   \n",
       "8                   ÿTanzania                           7%   \n",
       "9                      ÿKenya                        5.10%   \n",
       "10                    ÿUganda                           5%   \n",
       "11                      ÿTogo                        5.20%   \n",
       "12                  ÿCameroon                           4%   \n",
       "13                     ÿGabon                        4.50%   \n",
       "14  ÿCentral African Republic                           4%   \n",
       "15             ÿGuinea-Bissau                        3.65%   \n",
       "16    ÿCongo, Republic of the                        3.77%   \n",
       "17                  ÿBarbados                        0.90%   \n",
       "18                    ÿRwanda                        2.90%   \n",
       "19             ÿCte d'Ivoire                        2.70%   \n",
       "\n",
       "   Number of people with HIV/AIDS Annual deaths from HIV/AIDS Year of estimate  \n",
       "0                         240,000                       3,000             2024  \n",
       "1                         445,000                       7,000             2025  \n",
       "2                         399,100                       5,275             2025  \n",
       "3                       1,660,000                      25,600             2024  \n",
       "4                       9,400,000                      80,000             2025  \n",
       "5                       2,485,000                      59,100             2024  \n",
       "6                       1,642,570                      15,270             2024  \n",
       "7                          74,165                       2,400             2024  \n",
       "8                       3,300,000                      39,000             2025  \n",
       "9                       1,710,000                      24,000             2023  \n",
       "10                      1,590,000                      23,300             2023  \n",
       "11                        220,440                       6,600             2024  \n",
       "12                        530,000                      14,600             2023  \n",
       "13                         68,000                       4,800             2025  \n",
       "14                        126,200                       4,400             2024  \n",
       "15                         42,000                       2,200             2023  \n",
       "16                        110,840                       6,700             2024  \n",
       "17                          2,100                           -             2023  \n",
       "18                        230,000                       2,800             2016  \n",
       "19                        430,000                      13,000             2016  "
      ]
     },
     "execution_count": 3,
     "metadata": {},
     "output_type": "execute_result"
    }
   ],
   "source": [
    "df.head(20)"
   ]
  },
  {
   "cell_type": "code",
   "execution_count": 4,
   "id": "a213e283",
   "metadata": {
    "execution": {
     "iopub.execute_input": "2025-04-11T18:10:32.319048Z",
     "iopub.status.busy": "2025-04-11T18:10:32.318731Z",
     "iopub.status.idle": "2025-04-11T18:10:32.328912Z",
     "shell.execute_reply": "2025-04-11T18:10:32.328155Z"
    },
    "papermill": {
     "duration": 0.018041,
     "end_time": "2025-04-11T18:10:32.330470",
     "exception": false,
     "start_time": "2025-04-11T18:10:32.312429",
     "status": "completed"
    },
    "tags": []
   },
   "outputs": [
    {
     "data": {
      "text/html": [
       "<div>\n",
       "<style scoped>\n",
       "    .dataframe tbody tr th:only-of-type {\n",
       "        vertical-align: middle;\n",
       "    }\n",
       "\n",
       "    .dataframe tbody tr th {\n",
       "        vertical-align: top;\n",
       "    }\n",
       "\n",
       "    .dataframe thead th {\n",
       "        text-align: right;\n",
       "    }\n",
       "</style>\n",
       "<table border=\"1\" class=\"dataframe\">\n",
       "  <thead>\n",
       "    <tr style=\"text-align: right;\">\n",
       "      <th></th>\n",
       "      <th>Country/Region</th>\n",
       "      <th>Adult prevalence of HIV/AIDS</th>\n",
       "      <th>Number of people with HIV/AIDS</th>\n",
       "      <th>Annual deaths from HIV/AIDS</th>\n",
       "      <th>Year of estimate</th>\n",
       "    </tr>\n",
       "  </thead>\n",
       "  <tbody>\n",
       "    <tr>\n",
       "      <th>188</th>\n",
       "      <td>ÿAndorra</td>\n",
       "      <td>-</td>\n",
       "      <td>600</td>\n",
       "      <td>-</td>\n",
       "      <td>2025</td>\n",
       "    </tr>\n",
       "    <tr>\n",
       "      <th>189</th>\n",
       "      <td>ÿFederated States of Micronesia</td>\n",
       "      <td>-</td>\n",
       "      <td>149</td>\n",
       "      <td>-</td>\n",
       "      <td>2025</td>\n",
       "    </tr>\n",
       "    <tr>\n",
       "      <th>190</th>\n",
       "      <td>ÿJordan</td>\n",
       "      <td>-</td>\n",
       "      <td>2,000</td>\n",
       "      <td>-</td>\n",
       "      <td>2025</td>\n",
       "    </tr>\n",
       "    <tr>\n",
       "      <th>191</th>\n",
       "      <td>ÿLuxembourg</td>\n",
       "      <td>-</td>\n",
       "      <td>5,700</td>\n",
       "      <td>-</td>\n",
       "      <td>2025</td>\n",
       "    </tr>\n",
       "    <tr>\n",
       "      <th>192</th>\n",
       "      <td>ÿMaldives</td>\n",
       "      <td>-</td>\n",
       "      <td>660</td>\n",
       "      <td>-</td>\n",
       "      <td>2025</td>\n",
       "    </tr>\n",
       "  </tbody>\n",
       "</table>\n",
       "</div>"
      ],
      "text/plain": [
       "                      Country/Region Adult prevalence of HIV/AIDS  \\\n",
       "188                         ÿAndorra                            -   \n",
       "189  ÿFederated States of Micronesia                            -   \n",
       "190                          ÿJordan                            -   \n",
       "191                      ÿLuxembourg                            -   \n",
       "192                        ÿMaldives                            -   \n",
       "\n",
       "    Number of people with HIV/AIDS Annual deaths from HIV/AIDS  \\\n",
       "188                            600                           -   \n",
       "189                            149                           -   \n",
       "190                          2,000                           -   \n",
       "191                          5,700                           -   \n",
       "192                            660                           -   \n",
       "\n",
       "    Year of estimate  \n",
       "188             2025  \n",
       "189             2025  \n",
       "190             2025  \n",
       "191             2025  \n",
       "192             2025  "
      ]
     },
     "execution_count": 4,
     "metadata": {},
     "output_type": "execute_result"
    }
   ],
   "source": [
    "df.tail()"
   ]
  },
  {
   "cell_type": "code",
   "execution_count": 5,
   "id": "afd87165",
   "metadata": {
    "execution": {
     "iopub.execute_input": "2025-04-11T18:10:32.343153Z",
     "iopub.status.busy": "2025-04-11T18:10:32.342828Z",
     "iopub.status.idle": "2025-04-11T18:10:32.364674Z",
     "shell.execute_reply": "2025-04-11T18:10:32.363579Z"
    },
    "papermill": {
     "duration": 0.029679,
     "end_time": "2025-04-11T18:10:32.366123",
     "exception": false,
     "start_time": "2025-04-11T18:10:32.336444",
     "status": "completed"
    },
    "tags": []
   },
   "outputs": [
    {
     "name": "stdout",
     "output_type": "stream",
     "text": [
      "<class 'pandas.core.frame.DataFrame'>\n",
      "RangeIndex: 193 entries, 0 to 192\n",
      "Data columns (total 5 columns):\n",
      " #   Column                          Non-Null Count  Dtype \n",
      "---  ------                          --------------  ----- \n",
      " 0   Country/Region                  193 non-null    object\n",
      " 1   Adult prevalence of HIV/AIDS    193 non-null    object\n",
      " 2   Number of people with HIV/AIDS  192 non-null    object\n",
      " 3   Annual deaths from HIV/AIDS     193 non-null    object\n",
      " 4   Year of estimate                193 non-null    object\n",
      "dtypes: object(5)\n",
      "memory usage: 7.7+ KB\n"
     ]
    }
   ],
   "source": [
    "df.info()"
   ]
  },
  {
   "cell_type": "code",
   "execution_count": 6,
   "id": "68838aaa",
   "metadata": {
    "execution": {
     "iopub.execute_input": "2025-04-11T18:10:32.378721Z",
     "iopub.status.busy": "2025-04-11T18:10:32.378413Z",
     "iopub.status.idle": "2025-04-11T18:10:32.393984Z",
     "shell.execute_reply": "2025-04-11T18:10:32.393208Z"
    },
    "papermill": {
     "duration": 0.0235,
     "end_time": "2025-04-11T18:10:32.395370",
     "exception": false,
     "start_time": "2025-04-11T18:10:32.371870",
     "status": "completed"
    },
    "tags": []
   },
   "outputs": [
    {
     "data": {
      "text/html": [
       "<div>\n",
       "<style scoped>\n",
       "    .dataframe tbody tr th:only-of-type {\n",
       "        vertical-align: middle;\n",
       "    }\n",
       "\n",
       "    .dataframe tbody tr th {\n",
       "        vertical-align: top;\n",
       "    }\n",
       "\n",
       "    .dataframe thead th {\n",
       "        text-align: right;\n",
       "    }\n",
       "</style>\n",
       "<table border=\"1\" class=\"dataframe\">\n",
       "  <thead>\n",
       "    <tr style=\"text-align: right;\">\n",
       "      <th></th>\n",
       "      <th>Country/Region</th>\n",
       "      <th>Adult prevalence of HIV/AIDS</th>\n",
       "      <th>Number of people with HIV/AIDS</th>\n",
       "      <th>Annual deaths from HIV/AIDS</th>\n",
       "      <th>Year of estimate</th>\n",
       "    </tr>\n",
       "  </thead>\n",
       "  <tbody>\n",
       "    <tr>\n",
       "      <th>count</th>\n",
       "      <td>193</td>\n",
       "      <td>193</td>\n",
       "      <td>192</td>\n",
       "      <td>193</td>\n",
       "      <td>193</td>\n",
       "    </tr>\n",
       "    <tr>\n",
       "      <th>unique</th>\n",
       "      <td>193</td>\n",
       "      <td>73</td>\n",
       "      <td>168</td>\n",
       "      <td>56</td>\n",
       "      <td>16</td>\n",
       "    </tr>\n",
       "    <tr>\n",
       "      <th>top</th>\n",
       "      <td>ÿEswatini</td>\n",
       "      <td>-</td>\n",
       "      <td>11,000</td>\n",
       "      <td>-</td>\n",
       "      <td>2024</td>\n",
       "    </tr>\n",
       "    <tr>\n",
       "      <th>freq</th>\n",
       "      <td>1</td>\n",
       "      <td>53</td>\n",
       "      <td>6</td>\n",
       "      <td>126</td>\n",
       "      <td>57</td>\n",
       "    </tr>\n",
       "  </tbody>\n",
       "</table>\n",
       "</div>"
      ],
      "text/plain": [
       "       Country/Region Adult prevalence of HIV/AIDS  \\\n",
       "count             193                          193   \n",
       "unique            193                           73   \n",
       "top         ÿEswatini                            -   \n",
       "freq                1                           53   \n",
       "\n",
       "       Number of people with HIV/AIDS Annual deaths from HIV/AIDS  \\\n",
       "count                             192                         193   \n",
       "unique                            168                          56   \n",
       "top                            11,000                           -   \n",
       "freq                                6                         126   \n",
       "\n",
       "       Year of estimate  \n",
       "count               193  \n",
       "unique               16  \n",
       "top                2024  \n",
       "freq                 57  "
      ]
     },
     "execution_count": 6,
     "metadata": {},
     "output_type": "execute_result"
    }
   ],
   "source": [
    "df.describe()"
   ]
  },
  {
   "cell_type": "code",
   "execution_count": 7,
   "id": "282a1e33",
   "metadata": {
    "execution": {
     "iopub.execute_input": "2025-04-11T18:10:32.408169Z",
     "iopub.status.busy": "2025-04-11T18:10:32.407898Z",
     "iopub.status.idle": "2025-04-11T18:10:32.414881Z",
     "shell.execute_reply": "2025-04-11T18:10:32.413930Z"
    },
    "papermill": {
     "duration": 0.014977,
     "end_time": "2025-04-11T18:10:32.416215",
     "exception": false,
     "start_time": "2025-04-11T18:10:32.401238",
     "status": "completed"
    },
    "tags": []
   },
   "outputs": [
    {
     "data": {
      "text/plain": [
       "Country/Region                    0\n",
       "Adult prevalence of HIV/AIDS      0\n",
       "Number of people with HIV/AIDS    1\n",
       "Annual deaths from HIV/AIDS       0\n",
       "Year of estimate                  0\n",
       "dtype: int64"
      ]
     },
     "execution_count": 7,
     "metadata": {},
     "output_type": "execute_result"
    }
   ],
   "source": [
    "df.isnull().sum()"
   ]
  },
  {
   "cell_type": "code",
   "execution_count": 8,
   "id": "40880d2c",
   "metadata": {
    "execution": {
     "iopub.execute_input": "2025-04-11T18:10:32.429112Z",
     "iopub.status.busy": "2025-04-11T18:10:32.428847Z",
     "iopub.status.idle": "2025-04-11T18:10:32.435822Z",
     "shell.execute_reply": "2025-04-11T18:10:32.435086Z"
    },
    "papermill": {
     "duration": 0.014818,
     "end_time": "2025-04-11T18:10:32.436954",
     "exception": false,
     "start_time": "2025-04-11T18:10:32.422136",
     "status": "completed"
    },
    "tags": []
   },
   "outputs": [
    {
     "data": {
      "text/plain": [
       "np.int64(0)"
      ]
     },
     "execution_count": 8,
     "metadata": {},
     "output_type": "execute_result"
    }
   ],
   "source": [
    "df.duplicated().sum()"
   ]
  },
  {
   "cell_type": "code",
   "execution_count": 9,
   "id": "66c4ca1c",
   "metadata": {
    "execution": {
     "iopub.execute_input": "2025-04-11T18:10:32.449651Z",
     "iopub.status.busy": "2025-04-11T18:10:32.449337Z",
     "iopub.status.idle": "2025-04-11T18:10:32.454664Z",
     "shell.execute_reply": "2025-04-11T18:10:32.453830Z"
    },
    "papermill": {
     "duration": 0.013114,
     "end_time": "2025-04-11T18:10:32.455906",
     "exception": false,
     "start_time": "2025-04-11T18:10:32.442792",
     "status": "completed"
    },
    "tags": []
   },
   "outputs": [
    {
     "data": {
      "text/plain": [
       "(193, 5)"
      ]
     },
     "execution_count": 9,
     "metadata": {},
     "output_type": "execute_result"
    }
   ],
   "source": [
    "df.shape"
   ]
  },
  {
   "cell_type": "code",
   "execution_count": 10,
   "id": "0e888451",
   "metadata": {
    "execution": {
     "iopub.execute_input": "2025-04-11T18:10:32.468446Z",
     "iopub.status.busy": "2025-04-11T18:10:32.468170Z",
     "iopub.status.idle": "2025-04-11T18:10:32.474173Z",
     "shell.execute_reply": "2025-04-11T18:10:32.473477Z"
    },
    "papermill": {
     "duration": 0.013619,
     "end_time": "2025-04-11T18:10:32.475457",
     "exception": false,
     "start_time": "2025-04-11T18:10:32.461838",
     "status": "completed"
    },
    "tags": []
   },
   "outputs": [
    {
     "data": {
      "text/plain": [
       "Country/Region                    object\n",
       "Adult prevalence of HIV/AIDS      object\n",
       "Number of people with HIV/AIDS    object\n",
       "Annual deaths from HIV/AIDS       object\n",
       "Year of estimate                  object\n",
       "dtype: object"
      ]
     },
     "execution_count": 10,
     "metadata": {},
     "output_type": "execute_result"
    }
   ],
   "source": [
    "df.dtypes"
   ]
  },
  {
   "cell_type": "code",
   "execution_count": 11,
   "id": "ca51414e",
   "metadata": {
    "execution": {
     "iopub.execute_input": "2025-04-11T18:10:32.488732Z",
     "iopub.status.busy": "2025-04-11T18:10:32.488436Z",
     "iopub.status.idle": "2025-04-11T18:10:32.494000Z",
     "shell.execute_reply": "2025-04-11T18:10:32.493359Z"
    },
    "papermill": {
     "duration": 0.013879,
     "end_time": "2025-04-11T18:10:32.495345",
     "exception": false,
     "start_time": "2025-04-11T18:10:32.481466",
     "status": "completed"
    },
    "tags": []
   },
   "outputs": [
    {
     "data": {
      "text/plain": [
       "Index(['Country/Region', 'Adult prevalence of HIV/AIDS',\n",
       "       'Number of people with HIV/AIDS', 'Annual deaths from HIV/AIDS',\n",
       "       'Year of estimate'],\n",
       "      dtype='object')"
      ]
     },
     "execution_count": 11,
     "metadata": {},
     "output_type": "execute_result"
    }
   ],
   "source": [
    "df.columns\n"
   ]
  },
  {
   "cell_type": "code",
   "execution_count": 12,
   "id": "0d9cc047",
   "metadata": {
    "execution": {
     "iopub.execute_input": "2025-04-11T18:10:32.508742Z",
     "iopub.status.busy": "2025-04-11T18:10:32.508419Z",
     "iopub.status.idle": "2025-04-11T18:10:32.513067Z",
     "shell.execute_reply": "2025-04-11T18:10:32.512320Z"
    },
    "papermill": {
     "duration": 0.012917,
     "end_time": "2025-04-11T18:10:32.514370",
     "exception": false,
     "start_time": "2025-04-11T18:10:32.501453",
     "status": "completed"
    },
    "tags": []
   },
   "outputs": [],
   "source": [
    "df.columns = [\n",
    "    'Country',             \n",
    "    'Prevalence_Rate',    \n",
    "    'People_with_HIV',     \n",
    "    'Annual_Deaths',      \n",
    "    'Year'              \n",
    "]"
   ]
  },
  {
   "cell_type": "code",
   "execution_count": 13,
   "id": "138036fe",
   "metadata": {
    "execution": {
     "iopub.execute_input": "2025-04-11T18:10:32.528760Z",
     "iopub.status.busy": "2025-04-11T18:10:32.528457Z",
     "iopub.status.idle": "2025-04-11T18:10:32.534534Z",
     "shell.execute_reply": "2025-04-11T18:10:32.533741Z"
    },
    "papermill": {
     "duration": 0.015134,
     "end_time": "2025-04-11T18:10:32.536148",
     "exception": false,
     "start_time": "2025-04-11T18:10:32.521014",
     "status": "completed"
    },
    "tags": []
   },
   "outputs": [],
   "source": [
    "def clean_numeric(col):\n",
    "    return (\n",
    "        df[col]\n",
    "        .astype(str)\n",
    "        .str.replace(r'\\[.*?\\]', '', regex=True)  \n",
    "        .str.replace(',', '', regex=False)        \n",
    "        .str.replace('%', '', regex=False)        \n",
    "        .str.replace('–', '', regex=False)        \n",
    "        .str.replace('…', '', regex=False)        \n",
    "        .str.replace('-', '', regex=False)        \n",
    "        .str.replace(' ', '', regex=False)\n",
    "        .str.replace(r'\\[.*?\\]', '', regex=True)  \n",
    "        .str.replace(r'[^\\d\\.\\-]', '', regex=True)\n",
    "        .replace(['', 'nan', '-', '…'], np.nan) \n",
    "        .replace(['', 'nan'], np.nan)             \n",
    "        .astype(float)                            \n",
    "    )"
   ]
  },
  {
   "cell_type": "code",
   "execution_count": 14,
   "id": "fb7b7711",
   "metadata": {
    "execution": {
     "iopub.execute_input": "2025-04-11T18:10:32.549939Z",
     "iopub.status.busy": "2025-04-11T18:10:32.549668Z",
     "iopub.status.idle": "2025-04-11T18:10:32.566103Z",
     "shell.execute_reply": "2025-04-11T18:10:32.565264Z"
    },
    "papermill": {
     "duration": 0.024962,
     "end_time": "2025-04-11T18:10:32.567715",
     "exception": false,
     "start_time": "2025-04-11T18:10:32.542753",
     "status": "completed"
    },
    "tags": []
   },
   "outputs": [],
   "source": [
    "df['Prevalence_Rate'] = clean_numeric('Prevalence_Rate')\n",
    "df['People_with_HIV'] = clean_numeric('People_with_HIV')\n",
    "df['Annual_Deaths'] = clean_numeric('Annual_Deaths')\n",
    "df['Year'] = pd.to_numeric(df['Year'], errors='coerce')"
   ]
  },
  {
   "cell_type": "code",
   "execution_count": 15,
   "id": "0d9da2ab",
   "metadata": {
    "execution": {
     "iopub.execute_input": "2025-04-11T18:10:32.582067Z",
     "iopub.status.busy": "2025-04-11T18:10:32.581777Z",
     "iopub.status.idle": "2025-04-11T18:10:32.590992Z",
     "shell.execute_reply": "2025-04-11T18:10:32.590077Z"
    },
    "papermill": {
     "duration": 0.018141,
     "end_time": "2025-04-11T18:10:32.592359",
     "exception": false,
     "start_time": "2025-04-11T18:10:32.574218",
     "status": "completed"
    },
    "tags": []
   },
   "outputs": [],
   "source": [
    "df = df.dropna(subset=['People_with_HIV', 'Prevalence_Rate', 'Annual_Deaths', 'Year'])"
   ]
  },
  {
   "cell_type": "code",
   "execution_count": 16,
   "id": "73989d18",
   "metadata": {
    "execution": {
     "iopub.execute_input": "2025-04-11T18:10:32.606023Z",
     "iopub.status.busy": "2025-04-11T18:10:32.605709Z",
     "iopub.status.idle": "2025-04-11T18:10:32.610995Z",
     "shell.execute_reply": "2025-04-11T18:10:32.610313Z"
    },
    "papermill": {
     "duration": 0.013834,
     "end_time": "2025-04-11T18:10:32.612308",
     "exception": false,
     "start_time": "2025-04-11T18:10:32.598474",
     "status": "completed"
    },
    "tags": []
   },
   "outputs": [],
   "source": [
    "df['Death_Rate_%'] = (df['Annual_Deaths'] / df['People_with_HIV']) * 100"
   ]
  },
  {
   "cell_type": "code",
   "execution_count": 17,
   "id": "ab63b8b6",
   "metadata": {
    "execution": {
     "iopub.execute_input": "2025-04-11T18:10:32.638615Z",
     "iopub.status.busy": "2025-04-11T18:10:32.637878Z",
     "iopub.status.idle": "2025-04-11T18:10:32.642816Z",
     "shell.execute_reply": "2025-04-11T18:10:32.641877Z"
    },
    "papermill": {
     "duration": 0.013499,
     "end_time": "2025-04-11T18:10:32.644120",
     "exception": false,
     "start_time": "2025-04-11T18:10:32.630621",
     "status": "completed"
    },
    "tags": []
   },
   "outputs": [
    {
     "name": "stdout",
     "output_type": "stream",
     "text": [
      "['Country', 'Prevalence_Rate', 'People_with_HIV', 'Annual_Deaths', 'Year', 'Death_Rate_%']\n"
     ]
    }
   ],
   "source": [
    "print(df.columns.tolist())"
   ]
  },
  {
   "cell_type": "markdown",
   "id": "dc5dfc4e",
   "metadata": {
    "papermill": {
     "duration": 0.011671,
     "end_time": "2025-04-11T18:10:35.805563",
     "exception": false,
     "start_time": "2025-04-11T18:10:35.793892",
     "status": "completed"
    },
    "tags": []
   },
   "source": [
    "## Predictive modeling"
   ]
  },
  {
   "cell_type": "code",
   "execution_count": 18,
   "id": "16ebdcb9",
   "metadata": {
    "execution": {
     "iopub.execute_input": "2025-04-11T18:10:35.830049Z",
     "iopub.status.busy": "2025-04-11T18:10:35.829713Z",
     "iopub.status.idle": "2025-04-11T18:10:36.582989Z",
     "shell.execute_reply": "2025-04-11T18:10:36.581952Z"
    },
    "papermill": {
     "duration": 0.767597,
     "end_time": "2025-04-11T18:10:36.584712",
     "exception": false,
     "start_time": "2025-04-11T18:10:35.817115",
     "status": "completed"
    },
    "tags": []
   },
   "outputs": [],
   "source": [
    "from sklearn.model_selection import train_test_split\n",
    "from sklearn.preprocessing import LabelEncoder, StandardScaler\n",
    "from sklearn.metrics import accuracy_score,classification_report\n",
    "from sklearn.ensemble import RandomForestClassifier"
   ]
  },
  {
   "cell_type": "code",
   "execution_count": 19,
   "id": "7691d903",
   "metadata": {
    "execution": {
     "iopub.execute_input": "2025-04-11T18:10:36.610542Z",
     "iopub.status.busy": "2025-04-11T18:10:36.610116Z",
     "iopub.status.idle": "2025-04-11T18:10:36.620283Z",
     "shell.execute_reply": "2025-04-11T18:10:36.619272Z"
    },
    "papermill": {
     "duration": 0.024329,
     "end_time": "2025-04-11T18:10:36.621750",
     "exception": false,
     "start_time": "2025-04-11T18:10:36.597421",
     "status": "completed"
    },
    "tags": []
   },
   "outputs": [],
   "source": [
    "# Optional: Encode country if needed\n",
    "le = LabelEncoder()\n",
    "df['Country_Code'] = le.fit_transform(df['Country'])\n",
    "\n",
    "# Define threshold (e.g. top 25% death rates are \"high\")\n",
    "threshold = df['Death_Rate_%'].quantile(0.75)\n",
    "df['High_Death_Rate'] = (df['Death_Rate_%'] >= threshold).astype(int)\n",
    "\n",
    "# Features and target\n",
    "X = df[['Prevalence_Rate', 'People_with_HIV', 'Annual_Deaths', 'Year', 'Country_Code']]\n",
    "y = df['High_Death_Rate']\n"
   ]
  },
  {
   "cell_type": "code",
   "execution_count": 20,
   "id": "a87e8fb0",
   "metadata": {
    "execution": {
     "iopub.execute_input": "2025-04-11T18:10:36.650510Z",
     "iopub.status.busy": "2025-04-11T18:10:36.650100Z",
     "iopub.status.idle": "2025-04-11T18:10:36.663827Z",
     "shell.execute_reply": "2025-04-11T18:10:36.663021Z"
    },
    "papermill": {
     "duration": 0.029634,
     "end_time": "2025-04-11T18:10:36.665399",
     "exception": false,
     "start_time": "2025-04-11T18:10:36.635765",
     "status": "completed"
    },
    "tags": []
   },
   "outputs": [],
   "source": [
    "X_train, X_test, y_train, y_test = train_test_split(\n",
    "    X, y, test_size=0.2, random_state=42, stratify=y\n",
    ")\n",
    "\n",
    "# Optional: Standardize\n",
    "scaler = StandardScaler()\n",
    "X_train = scaler.fit_transform(X_train)\n",
    "X_test = scaler.transform(X_test)\n"
   ]
  },
  {
   "cell_type": "code",
   "execution_count": 21,
   "id": "b06d430d",
   "metadata": {
    "execution": {
     "iopub.execute_input": "2025-04-11T18:10:36.690360Z",
     "iopub.status.busy": "2025-04-11T18:10:36.690002Z",
     "iopub.status.idle": "2025-04-11T18:10:36.696127Z",
     "shell.execute_reply": "2025-04-11T18:10:36.695152Z"
    },
    "papermill": {
     "duration": 0.020617,
     "end_time": "2025-04-11T18:10:36.697830",
     "exception": false,
     "start_time": "2025-04-11T18:10:36.677213",
     "status": "completed"
    },
    "tags": []
   },
   "outputs": [],
   "source": [
    "def train_and_evaluate(model, model_name):\n",
    "    model.fit(X_train, y_train)\n",
    "    y_pred = model.predict(X_test)\n",
    "\n",
    "    acc = accuracy_score(y_test, y_pred) * 100\n",
    "    print(f\"\\n🔍 {model_name} Accuracy: {acc:.2f}%\")\n",
    "\n",
    "    print(\"\\n📋 Classification Report:\")\n",
    "    print(classification_report(y_test, y_pred))\n"
   ]
  },
  {
   "cell_type": "code",
   "execution_count": 22,
   "id": "a7fd3d86",
   "metadata": {
    "execution": {
     "iopub.execute_input": "2025-04-11T18:10:36.722347Z",
     "iopub.status.busy": "2025-04-11T18:10:36.722032Z",
     "iopub.status.idle": "2025-04-11T18:10:37.966295Z",
     "shell.execute_reply": "2025-04-11T18:10:37.965453Z"
    },
    "papermill": {
     "duration": 1.25837,
     "end_time": "2025-04-11T18:10:37.967935",
     "exception": false,
     "start_time": "2025-04-11T18:10:36.709565",
     "status": "completed"
    },
    "tags": []
   },
   "outputs": [
    {
     "name": "stdout",
     "output_type": "stream",
     "text": [
      "\n",
      "🔍 Random Forest Accuracy: 92.31%\n",
      "\n",
      "📋 Classification Report:\n",
      "              precision    recall  f1-score   support\n",
      "\n",
      "           0       0.91      1.00      0.95        10\n",
      "           1       1.00      0.67      0.80         3\n",
      "\n",
      "    accuracy                           0.92        13\n",
      "   macro avg       0.95      0.83      0.88        13\n",
      "weighted avg       0.93      0.92      0.92        13\n",
      "\n"
     ]
    }
   ],
   "source": [
    "models = [\n",
    "    (RandomForestClassifier(), \"Random Forest\")\n",
    "]\n",
    "\n",
    "for model, name in models:\n",
    "    train_and_evaluate(model, name)\n",
    "\n",
    "\n"
   ]
  }
 ],
 "metadata": {
  "kaggle": {
   "accelerator": "none",
   "dataSources": [
    {
     "datasetId": 7103786,
     "sourceId": 11352306,
     "sourceType": "datasetVersion"
    }
   ],
   "dockerImageVersionId": 31012,
   "isGpuEnabled": false,
   "isInternetEnabled": true,
   "language": "python",
   "sourceType": "notebook"
  },
  "kernelspec": {
   "display_name": "Python 3",
   "language": "python",
   "name": "python3"
  },
  "language_info": {
   "codemirror_mode": {
    "name": "ipython",
    "version": 3
   },
   "file_extension": ".py",
   "mimetype": "text/x-python",
   "name": "python",
   "nbconvert_exporter": "python",
   "pygments_lexer": "ipython3",
   "version": "3.12.2"
  },
  "papermill": {
   "default_parameters": {},
   "duration": 15.077083,
   "end_time": "2025-04-11T18:10:38.899775",
   "environment_variables": {},
   "exception": null,
   "input_path": "__notebook__.ipynb",
   "output_path": "__notebook__.ipynb",
   "parameters": {},
   "start_time": "2025-04-11T18:10:23.822692",
   "version": "2.6.0"
  }
 },
 "nbformat": 4,
 "nbformat_minor": 5
}
